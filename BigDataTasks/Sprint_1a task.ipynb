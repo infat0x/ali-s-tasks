{
 "cells": [
  {
   "cell_type": "markdown",
   "id": "413a3ba7",
   "metadata": {},
   "source": [
    "\n",
    "1) 123 rəqəmini string/character ə çevirin və tipini yoxlayın."
   ]
  },
  {
   "cell_type": "code",
   "execution_count": 1,
   "id": "9c1a5479",
   "metadata": {},
   "outputs": [
    {
     "name": "stdout",
     "output_type": "stream",
     "text": [
      "<class 'str'>\n"
     ]
    }
   ],
   "source": [
    "eded = 123\n",
    "setr = str(eded)\n",
    "print(type(setr))"
   ]
  },
  {
   "cell_type": "markdown",
   "id": "252b11bd",
   "metadata": {},
   "source": [
    "2) 19.99 dəyərini tam ədədə çevirin və nəticəni çap edin."
   ]
  },
  {
   "cell_type": "code",
   "execution_count": 2,
   "id": "d57e30ce",
   "metadata": {},
   "outputs": [
    {
     "name": "stdout",
     "output_type": "stream",
     "text": [
      "19\n"
     ]
    }
   ],
   "source": [
    "eded = 19.99\n",
    "print(int(eded))"
   ]
  },
  {
   "cell_type": "markdown",
   "id": "d956e096",
   "metadata": {},
   "source": [
    "3) \"500\" dəyərini numericə çevirin və 2-yə bölüb nəticəni çap edin."
   ]
  },
  {
   "cell_type": "code",
   "execution_count": 3,
   "id": "c17088ca",
   "metadata": {},
   "outputs": [
    {
     "name": "stdout",
     "output_type": "stream",
     "text": [
      "250.0\n"
     ]
    }
   ],
   "source": [
    "setr = \"500\"\n",
    "eded = int(setr)\n",
    "print(eded/2)"
   ]
  },
  {
   "cell_type": "markdown",
   "id": "936cb1a3",
   "metadata": {},
   "source": [
    "4) a = 8 və b = 12 yaradın. a < b və a == b şərtlərini yoxlayın, nəticələri çap edin."
   ]
  },
  {
   "cell_type": "code",
   "execution_count": 4,
   "id": "5a091c85",
   "metadata": {},
   "outputs": [
    {
     "name": "stdout",
     "output_type": "stream",
     "text": [
      "a < b\n"
     ]
    }
   ],
   "source": [
    "a = 8\n",
    "b = 12\n",
    "if a < b:\n",
    "    print(\"a < b\")\n",
    "elif a == b:\n",
    "    print(\"a == b\")"
   ]
  },
  {
   "cell_type": "markdown",
   "id": "b7062f38",
   "metadata": {},
   "source": [
    "5) x = 5, y = 10, z = 15 yaradın. (x < y) and (y < z) şərtini yoxlayın və nəticəni çap edin."
   ]
  },
  {
   "cell_type": "code",
   "execution_count": 7,
   "id": "410eea88",
   "metadata": {},
   "outputs": [
    {
     "name": "stdout",
     "output_type": "stream",
     "text": [
      "x < y < z\n",
      "Her sey zordu\n"
     ]
    }
   ],
   "source": [
    "x = 5\n",
    "y = 10\n",
    "z = 15\n",
    "if x <  y < z:\n",
    "    print(\"x < y < z\")\n",
    "    print(\"Her sey zordu\")"
   ]
  },
  {
   "cell_type": "markdown",
   "id": "f0784598",
   "metadata": {},
   "source": [
    "6) 25-i 4-ə bölün. Tam bölmə, qalıq və adi bölmə nəticələrini çap edin."
   ]
  },
  {
   "cell_type": "code",
   "execution_count": 10,
   "id": "640df197",
   "metadata": {},
   "outputs": [
    {
     "name": "stdout",
     "output_type": "stream",
     "text": [
      "Tam bolme: 25//4 = 6\n",
      "Qaliq: 25%4 = 1\n",
      "Adi bolme: 25/4 = 6.25\n"
     ]
    }
   ],
   "source": [
    "print(\"Tam bolme: 25//4 =\", 25//4 )\n",
    "print(\"Qaliq: 25%4 =\", 25%4 ) \n",
    "print(\"Adi bolme: 25/4 =\", 25/4)"
   ]
  },
  {
   "cell_type": "markdown",
   "id": "afb3a946",
   "metadata": {},
   "source": [
    "7) 3-ü 4-cü dərəcəyə qaldırın və nəticəni çap edin."
   ]
  },
  {
   "cell_type": "code",
   "execution_count": 11,
   "id": "f9c4238a",
   "metadata": {},
   "outputs": [
    {
     "name": "stdout",
     "output_type": "stream",
     "text": [
      "81\n"
     ]
    }
   ],
   "source": [
    "print(3**4)"
   ]
  },
  {
   "cell_type": "markdown",
   "id": "534dec0e",
   "metadata": {},
   "source": [
    "8) qiymet = 75.5 yaradın. Onu tam ədədə çevirin və tipini yoxlayın."
   ]
  },
  {
   "cell_type": "code",
   "execution_count": 12,
   "id": "8d56820f",
   "metadata": {},
   "outputs": [
    {
     "name": "stdout",
     "output_type": "stream",
     "text": [
      "<class 'int'>\n"
     ]
    }
   ],
   "source": [
    "qiymet = 75.5\n",
    "print(type(int(qiymet)))"
   ]
  },
  {
   "cell_type": "markdown",
   "id": "983b49f3",
   "metadata": {},
   "source": [
    "9) n = 20 yaradın. (n > 10) or (n < 5) və (n > 15) and (n < 25) şərtlərini yoxlayın, nəticələri çap edin."
   ]
  },
  {
   "cell_type": "code",
   "execution_count": 13,
   "id": "639834f0",
   "metadata": {},
   "outputs": [
    {
     "name": "stdout",
     "output_type": "stream",
     "text": [
      "n 10-dan boyuk ve ya 5-den kicikdir\n"
     ]
    }
   ],
   "source": [
    "n = 20\n",
    "if  (n > 10) or (n < 5):\n",
    "    print(\"n 10-dan boyuk ve ya 5-den kicikdir\")\n",
    "elif (n > 15) and (n < 25):\n",
    "    print(\"n 15-den boyuk ve 25-den kicikdir\")"
   ]
  },
  {
   "cell_type": "markdown",
   "id": "f1078868",
   "metadata": {},
   "source": [
    "10) \"42.8\" dəyərini əvvəl float-a, sonra tam ədədə çevirin və hər addımda tipi yoxlayın."
   ]
  },
  {
   "cell_type": "code",
   "execution_count": 14,
   "id": "5f8774d5",
   "metadata": {},
   "outputs": [
    {
     "name": "stdout",
     "output_type": "stream",
     "text": [
      "<class 'float'>\n",
      "<class 'int'>\n"
     ]
    }
   ],
   "source": [
    "eded = 42.8\n",
    "print(type(float(eded)))\n",
    "print(type(int(eded)))"
   ]
  }
 ],
 "metadata": {
  "kernelspec": {
   "display_name": "Python 3",
   "language": "python",
   "name": "python3"
  },
  "language_info": {
   "codemirror_mode": {
    "name": "ipython",
    "version": 3
   },
   "file_extension": ".py",
   "mimetype": "text/x-python",
   "name": "python",
   "nbconvert_exporter": "python",
   "pygments_lexer": "ipython3",
   "version": "3.13.3"
  }
 },
 "nbformat": 4,
 "nbformat_minor": 5
}

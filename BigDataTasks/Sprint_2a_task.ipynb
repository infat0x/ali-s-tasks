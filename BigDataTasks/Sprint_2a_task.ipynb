{
 "cells": [
  {
   "cell_type": "markdown",
   "id": "192c56ec",
   "metadata": {},
   "source": [
    "1) 5, 10, 15, 20 rəqəmlərindən ibarət “rəqəmlər” adlı list/vector yaradın"
   ]
  },
  {
   "cell_type": "code",
   "execution_count": 33,
   "id": "f6bf16ae",
   "metadata": {},
   "outputs": [
    {
     "name": "stdout",
     "output_type": "stream",
     "text": [
      "[5, 10, 15, 20]\n",
      "5 10 15 20\n"
     ]
    }
   ],
   "source": [
    "rəqəmlər = [5, 10, 15, 20]\n",
    "print(rəqəmlər)\n",
    "print(*rəqəmlər)"
   ]
  },
  {
   "cell_type": "markdown",
   "id": "5b58a4d4",
   "metadata": {},
   "source": [
    "2) “rəqəmlər” listinin/vectorunun uzunluğunu tapın"
   ]
  },
  {
   "cell_type": "code",
   "execution_count": 34,
   "id": "e7facf95",
   "metadata": {},
   "outputs": [
    {
     "name": "stdout",
     "output_type": "stream",
     "text": [
      "4\n"
     ]
    }
   ],
   "source": [
    "print(len(rəqəmlər))"
   ]
  },
  {
   "cell_type": "markdown",
   "id": "6b1fbc75",
   "metadata": {},
   "source": [
    "3) “rəqəmlər” listinə/vectoruna 25 elementini əlavə edin"
   ]
  },
  {
   "cell_type": "code",
   "execution_count": 35,
   "id": "13149e5a",
   "metadata": {},
   "outputs": [
    {
     "name": "stdout",
     "output_type": "stream",
     "text": [
      "[5, 10, 15, 20, 25]\n"
     ]
    }
   ],
   "source": [
    "rəqəmlər.append(25)\n",
    "print(rəqəmlər)"
   ]
  },
  {
   "cell_type": "markdown",
   "id": "2128a812",
   "metadata": {},
   "source": [
    "4) “rəqəmlər” listinin/vectorunun 2-ci indeksinə 12 elementini əlavə edin"
   ]
  },
  {
   "cell_type": "code",
   "execution_count": 36,
   "id": "e9e1db71",
   "metadata": {},
   "outputs": [
    {
     "name": "stdout",
     "output_type": "stream",
     "text": [
      "[5, 10, 12, 15, 20, 25]\n"
     ]
    }
   ],
   "source": [
    "rəqəmlər.insert(2, 12)\n",
    "print(rəqəmlər)"
   ]
  },
  {
   "cell_type": "markdown",
   "id": "8c840d25",
   "metadata": {},
   "source": [
    "5) 1, 2, 3 və 4, 5, 6 listlərini/vectorlarını birləşdirin"
   ]
  },
  {
   "cell_type": "code",
   "execution_count": 37,
   "id": "2a511808",
   "metadata": {},
   "outputs": [
    {
     "name": "stdout",
     "output_type": "stream",
     "text": [
      "[1, 2, 3, 4, 5, 6]\n"
     ]
    }
   ],
   "source": [
    "a = [1, 2, 3]\n",
    "b = [4, 5, 6]\n",
    "print(a + b) "
   ]
  },
  {
   "cell_type": "markdown",
   "id": "8c709427",
   "metadata": {},
   "source": [
    "6) “rəqəmlər” listindən/vectorundan 2-ci və 3-cü elementləri seçin"
   ]
  },
  {
   "cell_type": "code",
   "execution_count": 38,
   "id": "f73b4762",
   "metadata": {},
   "outputs": [
    {
     "name": "stdout",
     "output_type": "stream",
     "text": [
      "10 12\n"
     ]
    }
   ],
   "source": [
    "print(rəqəmlər[1], rəqəmlər[2])"
   ]
  },
  {
   "cell_type": "markdown",
   "id": "5bc4cef9",
   "metadata": {},
   "source": [
    "7) “rəqəmlər” listinin/vectorunun ilk elementini 50 ilə əvəz edin "
   ]
  },
  {
   "cell_type": "code",
   "execution_count": 39,
   "id": "044db119",
   "metadata": {},
   "outputs": [
    {
     "name": "stdout",
     "output_type": "stream",
     "text": [
      "[50, 10, 12, 15, 20, 25]\n"
     ]
    }
   ],
   "source": [
    "rəqəmlər[0] = 50\n",
    "print(rəqəmlər)"
   ]
  },
  {
   "cell_type": "markdown",
   "id": "9be61fcd",
   "metadata": {},
   "source": [
    "8) “rəqəmlər” listində/vectorunda 19 elementinin olub-olmadığını yoxlayın"
   ]
  },
  {
   "cell_type": "code",
   "execution_count": 42,
   "id": "dffffcb8",
   "metadata": {},
   "outputs": [
    {
     "name": "stdout",
     "output_type": "stream",
     "text": [
      "19 yoxdur\n",
      "[50, 10, 12, 15, 20, 25]\n"
     ]
    }
   ],
   "source": [
    "if 19 in rəqəmlər:\n",
    "    print(\"19 var\")\n",
    "else:\n",
    "    print(\"19 yoxdur\")\n",
    "print(rəqəmlər)"
   ]
  },
  {
   "cell_type": "markdown",
   "id": "170d5e5b",
   "metadata": {},
   "source": [
    "9) \"a\", \"b\", \"a\", \"c\" listində/vectorunda \"a\" elementinin neçə dəfə təkrarlandığını tapın\n"
   ]
  },
  {
   "cell_type": "code",
   "execution_count": 43,
   "id": "1474727e",
   "metadata": {},
   "outputs": [
    {
     "name": "stdout",
     "output_type": "stream",
     "text": [
      "2\n"
     ]
    }
   ],
   "source": [
    "herfler = ['a', 'b', 'a', 'c']\n",
    "print(herfler.count('a')) "
   ]
  },
  {
   "cell_type": "markdown",
   "id": "66b3c4d3",
   "metadata": {},
   "source": [
    "10) \"x\", \"y\", \"x\", \"z\" listindən/vectorundan \"x\" elementlərini silin\n"
   ]
  },
  {
   "cell_type": "code",
   "execution_count": 44,
   "id": "dffa8521",
   "metadata": {},
   "outputs": [
    {
     "name": "stdout",
     "output_type": "stream",
     "text": [
      "['y', 'z']\n"
     ]
    }
   ],
   "source": [
    "eli = ['x', 'y', 'x', 'z']\n",
    "for i in range(eli.count('x')):\n",
    "    eli.remove('x')\n",
    "print(eli)"
   ]
  },
  {
   "cell_type": "markdown",
   "id": "85a82467",
   "metadata": {},
   "source": [
    "11) 7, 2, 9, 1 listini/vectorunu azalan sırayla sıralayın"
   ]
  },
  {
   "cell_type": "code",
   "execution_count": 47,
   "id": "a1a51f62",
   "metadata": {},
   "outputs": [
    {
     "name": "stdout",
     "output_type": "stream",
     "text": [
      "[9, 7, 2, 1]\n"
     ]
    }
   ],
   "source": [
    "bomba = [7, 2, 9, 1]\n",
    "bomba.sort(reverse=True)\n",
    "print(bomba)"
   ]
  },
  {
   "cell_type": "markdown",
   "id": "cd1d9972",
   "metadata": {},
   "source": [
    "12) “rəqəmlər” listindən/vectorundan 10-dan böyük elementləri seçin"
   ]
  },
  {
   "cell_type": "code",
   "execution_count": 51,
   "id": "76337e2d",
   "metadata": {},
   "outputs": [
    {
     "name": "stdout",
     "output_type": "stream",
     "text": [
      "50, 12, 15, 20, 25, "
     ]
    }
   ],
   "source": [
    "for i in rəqəmlər:\n",
    "    if i > 10:\n",
    "        print(i, end=\", \")"
   ]
  }
 ],
 "metadata": {
  "kernelspec": {
   "display_name": "Python 3",
   "language": "python",
   "name": "python3"
  },
  "language_info": {
   "codemirror_mode": {
    "name": "ipython",
    "version": 3
   },
   "file_extension": ".py",
   "mimetype": "text/x-python",
   "name": "python",
   "nbconvert_exporter": "python",
   "pygments_lexer": "ipython3",
   "version": "3.13.3"
  }
 },
 "nbformat": 4,
 "nbformat_minor": 5
}

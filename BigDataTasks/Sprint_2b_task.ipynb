{
 "cells": [
  {
   "cell_type": "markdown",
   "id": "c68c7abb",
   "metadata": {},
   "source": [
    "1) 10, 20, 30, 40 elementlərindən ibarət s1 adlı series/vector yaradın"
   ]
  },
  {
   "cell_type": "code",
   "execution_count": 9,
   "id": "d5890732",
   "metadata": {},
   "outputs": [
    {
     "name": "stdout",
     "output_type": "stream",
     "text": [
      "0    10\n",
      "1    20\n",
      "2    30\n",
      "3    40\n",
      "dtype: int64\n"
     ]
    }
   ],
   "source": [
    "import pandas as pd \n",
    "s1 = pd.Series([10, 20, 30, 40])\n",
    "print(s1)"
   ]
  },
  {
   "cell_type": "markdown",
   "id": "696ef157",
   "metadata": {},
   "source": [
    "2) s1-ə 'w', 'x', 'y', 'z' indekslərini təyin edin"
   ]
  },
  {
   "cell_type": "code",
   "execution_count": 10,
   "id": "4f1076b4",
   "metadata": {},
   "outputs": [
    {
     "name": "stdout",
     "output_type": "stream",
     "text": [
      "w    10\n",
      "x    20\n",
      "y    30\n",
      "z    40\n",
      "dtype: int64\n"
     ]
    }
   ],
   "source": [
    "s1.index = ['w', 'x', 'y', 'z']\n",
    "print(s1)"
   ]
  },
  {
   "cell_type": "markdown",
   "id": "e4207ff7",
   "metadata": {},
   "source": [
    "3) Python: {'p': 5, 'q': 10, 'r': 15} dictionary-dən s2 adlı Series yaradın"
   ]
  },
  {
   "cell_type": "code",
   "execution_count": 11,
   "id": "e356ab15",
   "metadata": {},
   "outputs": [
    {
     "name": "stdout",
     "output_type": "stream",
     "text": [
      "p     5\n",
      "q    10\n",
      "r    15\n",
      "dtype: int64\n"
     ]
    }
   ],
   "source": [
    "s2 = pd.Series({'p': 5, 'q': 10, 'r': 15})\n",
    "print(s2)\n"
   ]
  },
  {
   "cell_type": "markdown",
   "id": "0ac07820",
   "metadata": {},
   "source": [
    "4) s2-dən 'q' indeksli elementi seçin"
   ]
  },
  {
   "cell_type": "code",
   "execution_count": 12,
   "id": "9a2fdc30",
   "metadata": {},
   "outputs": [
    {
     "name": "stdout",
     "output_type": "stream",
     "text": [
      "10\n"
     ]
    }
   ],
   "source": [
    "q = s2['q']\n",
    "print(q)"
   ]
  },
  {
   "cell_type": "markdown",
   "id": "1df6f700",
   "metadata": {},
   "source": [
    "5) s1-dən 25-dən böyük elementləri seçin"
   ]
  },
  {
   "cell_type": "code",
   "execution_count": 13,
   "id": "da1a97a3",
   "metadata": {},
   "outputs": [
    {
     "name": "stdout",
     "output_type": "stream",
     "text": [
      "y    30\n",
      "z    40\n",
      "dtype: int64\n"
     ]
    }
   ],
   "source": [
    "boyuk = s1[s1 > 25]\n",
    "print(boyuk)"
   ]
  },
  {
   "cell_type": "markdown",
   "id": "b1e789d2",
   "metadata": {},
   "source": [
    "6) s1-də 20-dən böyük elementləri 10-a bölün "
   ]
  },
  {
   "cell_type": "code",
   "execution_count": 14,
   "id": "c0183e3d",
   "metadata": {},
   "outputs": [
    {
     "name": "stdout",
     "output_type": "stream",
     "text": [
      "y    3.0\n",
      "z    4.0\n",
      "dtype: float64\n"
     ]
    }
   ],
   "source": [
    "result = s1[s1 > 20] / 10\n",
    "print(result)"
   ]
  },
  {
   "cell_type": "markdown",
   "id": "98427af8",
   "metadata": {},
   "source": [
    "7) ((1, 2), (3, 4)) listindən/vectorundan df1 adlı dataframe yaradın"
   ]
  },
  {
   "cell_type": "code",
   "execution_count": 15,
   "id": "01af3851",
   "metadata": {},
   "outputs": [
    {
     "name": "stdout",
     "output_type": "stream",
     "text": [
      "   0  1\n",
      "0  1  2\n",
      "1  3  4\n"
     ]
    }
   ],
   "source": [
    "df1 = pd.DataFrame(((1, 2), (3, 4)))\n",
    "print(df1)"
   ]
  },
  {
   "cell_type": "markdown",
   "id": "12e7562f",
   "metadata": {},
   "source": [
    "8) df1-ə ('r1', 'r2') sətir və ('c1', 'c2') sütun adlarını təyin edin"
   ]
  },
  {
   "cell_type": "code",
   "execution_count": 16,
   "id": "9434f6c8",
   "metadata": {},
   "outputs": [
    {
     "name": "stdout",
     "output_type": "stream",
     "text": [
      "    c1  c2\n",
      "r1   1   2\n",
      "r2   3   4\n"
     ]
    }
   ],
   "source": [
    "df1.index = ['r1', 'r2']\n",
    "df1.columns = ['c1', 'c2']\n",
    "print(df1)"
   ]
  },
  {
   "cell_type": "markdown",
   "id": "a1189b6a",
   "metadata": {},
   "source": [
    "9) Python: {'A': [1, 2], 'B': [3, 4]} dictionary-dən df2 yaradın"
   ]
  },
  {
   "cell_type": "code",
   "execution_count": 17,
   "id": "b8924c43",
   "metadata": {},
   "outputs": [
    {
     "name": "stdout",
     "output_type": "stream",
     "text": [
      "   A  B\n",
      "0  1  3\n",
      "1  2  4\n"
     ]
    }
   ],
   "source": [
    "df2 = pd.DataFrame({'A': [1, 2], 'B': [3, 4]})\n",
    "print(df2)"
   ]
  },
  {
   "cell_type": "markdown",
   "id": "540eef3e",
   "metadata": {},
   "source": [
    "10) df2-də 'A' sütunu 1-dən böyük olan sətirləri seçin"
   ]
  },
  {
   "cell_type": "code",
   "execution_count": 19,
   "id": "6ec8828f",
   "metadata": {},
   "outputs": [
    {
     "name": "stdout",
     "output_type": "stream",
     "text": [
      "   A  B\n",
      "1  2  4\n"
     ]
    }
   ],
   "source": [
    "nem = df2[df2['A'] > 1]\n",
    "print(nem)"
   ]
  }
 ],
 "metadata": {
  "kernelspec": {
   "display_name": "Python 3",
   "language": "python",
   "name": "python3"
  },
  "language_info": {
   "codemirror_mode": {
    "name": "ipython",
    "version": 3
   },
   "file_extension": ".py",
   "mimetype": "text/x-python",
   "name": "python",
   "nbconvert_exporter": "python",
   "pygments_lexer": "ipython3",
   "version": "3.13.3"
  }
 },
 "nbformat": 4,
 "nbformat_minor": 5
}

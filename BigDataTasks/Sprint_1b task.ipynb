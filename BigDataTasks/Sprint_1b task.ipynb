{
 "cells": [
  {
   "cell_type": "markdown",
   "id": "89f6182a",
   "metadata": {},
   "source": [
    "1) s = \"Programming\" yaradın. Uzunluğunu və ilk simvolunu çap edin."
   ]
  },
  {
   "cell_type": "code",
   "execution_count": 2,
   "id": "43207a53",
   "metadata": {},
   "outputs": [
    {
     "name": "stdout",
     "output_type": "stream",
     "text": [
      "uzunluq: 11\n",
      "ilk herf: P\n"
     ]
    }
   ],
   "source": [
    "s = \"Programming\"\n",
    "print(\"uzunluq:\",len(s))  \n",
    "print(\"ilk herf:\",s[0])"
   ]
  },
  {
   "cell_type": "markdown",
   "id": "2fe6b9d7",
   "metadata": {},
   "source": [
    "2) s1 = \"Hello\" və s2 = \"World\" yaradın. Onları boşluqla birləşdirin və nəticəni çap edin.\n"
   ]
  },
  {
   "cell_type": "code",
   "execution_count": 4,
   "id": "9806ba43",
   "metadata": {},
   "outputs": [
    {
     "name": "stdout",
     "output_type": "stream",
     "text": [
      "Hello World\n"
     ]
    }
   ],
   "source": [
    "s1 = \"Hello\" \n",
    "s2 = \"World\" \n",
    "print(s1 + \" \" + s2)"
   ]
  },
  {
   "cell_type": "markdown",
   "id": "5cad350e",
   "metadata": {},
   "source": [
    "3) text = \"Python\" yaradın. Son simvolunu çap edin."
   ]
  },
  {
   "cell_type": "code",
   "execution_count": 5,
   "id": "0cbc283f",
   "metadata": {},
   "outputs": [
    {
     "name": "stdout",
     "output_type": "stream",
     "text": [
      "n\n"
     ]
    }
   ],
   "source": [
    "text = \"Python\"\n",
    "print(text[-1])"
   ]
  },
  {
   "cell_type": "markdown",
   "id": "0aca7ce2",
   "metadata": {},
   "source": [
    "4) s = \"Artificial\" yaradın. \"Art\" hissəsini ilə çıxarın və çap edin."
   ]
  },
  {
   "cell_type": "code",
   "execution_count": 6,
   "id": "e393cd58",
   "metadata": {},
   "outputs": [
    {
     "name": "stdout",
     "output_type": "stream",
     "text": [
      "Art\n"
     ]
    }
   ],
   "source": [
    "s = \"Artificial\"\n",
    "print(s[0:3])  "
   ]
  },
  {
   "cell_type": "markdown",
   "id": "cf1ca152",
   "metadata": {},
   "source": [
    "5) word = \"Code\" yaradın. Tərsinə çevirin və nəticəni çap edin."
   ]
  },
  {
   "cell_type": "code",
   "execution_count": 19,
   "id": "579935f0",
   "metadata": {},
   "outputs": [
    {
     "name": "stdout",
     "output_type": "stream",
     "text": [
      "edoC\n"
     ]
    }
   ],
   "source": [
    "word = \"Code\"\n",
    "print(word[::-1])  "
   ]
  },
  {
   "cell_type": "markdown",
   "id": "b080a8cb",
   "metadata": {},
   "source": [
    "6) s = \"abcdefgh\" yaradın. Hər ikinci simvolu alın və çap edin."
   ]
  },
  {
   "cell_type": "code",
   "execution_count": 20,
   "id": "67a39211",
   "metadata": {},
   "outputs": [
    {
     "name": "stdout",
     "output_type": "stream",
     "text": [
      "aceg\n"
     ]
    }
   ],
   "source": [
    "s = \"abcdefgh\"\n",
    "print(s[::2])"
   ]
  },
  {
   "cell_type": "markdown",
   "id": "5ba3260d",
   "metadata": {},
   "source": [
    "7) text = \"data\" yaradın. Onu bir sətrlik kodla böyük hərflərə və kiçik hərflərə çevirib çap edin."
   ]
  },
  {
   "cell_type": "code",
   "execution_count": 21,
   "id": "b321d160",
   "metadata": {},
   "outputs": [
    {
     "name": "stdout",
     "output_type": "stream",
     "text": [
      "DATA data\n"
     ]
    }
   ],
   "source": [
    "text = \"data\" \n",
    "print(text.upper(), text.lower())\n"
   ]
  },
  {
   "cell_type": "markdown",
   "id": "0e62c42a",
   "metadata": {},
   "source": [
    "8) s = \"Python-R-Java\" yaradın. \"-\" ilə ayırın (split(\"-\")) və nəticəni çap edin."
   ]
  },
  {
   "cell_type": "code",
   "execution_count": null,
   "id": "4adec049",
   "metadata": {},
   "outputs": [
    {
     "name": "stdout",
     "output_type": "stream",
     "text": [
      "Python R Java\n"
     ]
    }
   ],
   "source": [
    "s = \"Python-R-Java\" \n",
    "print(*s.split(\"-\"))  \n",
    "#  \"*\" list elementlerin [ , ] isareleri olmadan gostermek ucundur"
   ]
  },
  {
   "cell_type": "markdown",
   "id": "4e706812",
   "metadata": {},
   "source": [
    "9) ad = \"Ayxan\" və yaş = 25 yaradın. f-string ilə \"Ayxan 25 yaşındadır\" çap edin.\n"
   ]
  },
  {
   "cell_type": "code",
   "execution_count": 25,
   "id": "e6bc3aa5",
   "metadata": {},
   "outputs": [
    {
     "name": "stdout",
     "output_type": "stream",
     "text": [
      "Ayxan 25 yaşındadır.\n"
     ]
    }
   ],
   "source": [
    "ad = \"Ayxan\" \n",
    "yaş = 25\n",
    "print(f\"{ad} {yaş} yaşındadır.\")"
   ]
  },
  {
   "cell_type": "markdown",
   "id": "ae29129e",
   "metadata": {},
   "source": [
    "10) s = \"salam-dunya\" yaradın. \"-\"ni boşluqla əvəz edin və nəticəni çap edin."
   ]
  },
  {
   "cell_type": "code",
   "execution_count": 26,
   "id": "bc5b9cf7",
   "metadata": {},
   "outputs": [
    {
     "name": "stdout",
     "output_type": "stream",
     "text": [
      "salam dunya\n"
     ]
    }
   ],
   "source": [
    "s = \"salam-dunya\"\n",
    "print(s.replace(\"-\", \" \"))"
   ]
  }
 ],
 "metadata": {
  "kernelspec": {
   "display_name": "Python 3",
   "language": "python",
   "name": "python3"
  },
  "language_info": {
   "codemirror_mode": {
    "name": "ipython",
    "version": 3
   },
   "file_extension": ".py",
   "mimetype": "text/x-python",
   "name": "python",
   "nbconvert_exporter": "python",
   "pygments_lexer": "ipython3",
   "version": "3.13.3"
  }
 },
 "nbformat": 4,
 "nbformat_minor": 5
}
